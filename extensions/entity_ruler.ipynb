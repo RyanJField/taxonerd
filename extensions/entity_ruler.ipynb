{
 "cells": [
  {
   "cell_type": "markdown",
   "metadata": {},
   "source": [
    "# Combining TaxoNERD with gazetteer-based NER for improved taxonomic entities recognition"
   ]
  },
  {
   "cell_type": "markdown",
   "metadata": {},
   "source": [
    "TaxoNERD's models are natively able to detect scientific names, common names, abbreviated species names and user-defined abbreviations in text. However, the performance on common (vernacular) names is not very good because these names are not systematically annotated in the training corpus. \n",
    "\n",
    "A very simple way to improve the performance of TaxoNERD on this category of taxon mentions is to couple TaxoNERD with a gazetteer-based NER engine, e.g. spaCy's [EntityRuler](https://spacy.io/api/entityruler). \n",
    "\n",
    "In this notebook, we show how TaxoNERD can be extended with an instance of EntityRuler for improved taxonomic entities recognition."
   ]
  },
  {
   "cell_type": "markdown",
   "metadata": {},
   "source": [
    "## TaxoNERD initialization and testing"
   ]
  },
  {
   "cell_type": "code",
   "execution_count": 1,
   "metadata": {},
   "outputs": [],
   "source": [
    "import spacy\n",
    "import json\n",
    "from tqdm.notebook import trange, tqdm\n",
    "from spacy.language import Language\n",
    "from taxonerd import TaxoNERD"
   ]
  },
  {
   "cell_type": "markdown",
   "metadata": {},
   "source": [
    "We start by loading the ``en_core_eco_biobert`` model. The ``pysbd_sentencizer`` and ``parser`` components are not needed here so they can be excluded."
   ]
  },
  {
   "cell_type": "code",
   "execution_count": 2,
   "metadata": {},
   "outputs": [
    {
     "data": {
      "text/plain": [
       "['transformer',\n",
       " 'tagger',\n",
       " 'attribute_ruler',\n",
       " 'lemmatizer',\n",
       " 'ner',\n",
       " 'taxo_abbrev_detector']"
      ]
     },
     "execution_count": 2,
     "metadata": {},
     "output_type": "execute_result"
    }
   ],
   "source": [
    "taxonerd = TaxoNERD(prefer_gpu=True)\n",
    "taxonerd.load(model=\"en_core_eco_biobert\", exclude=[\"pysbd_sentencizer\", \"parser\"])\n",
    "taxonerd.nlp.pipe_names"
   ]
  },
  {
   "cell_type": "markdown",
   "metadata": {},
   "source": [
    "Let's try our model on a piece of text !"
   ]
  },
  {
   "cell_type": "code",
   "execution_count": 3,
   "metadata": {},
   "outputs": [],
   "source": [
    "text = \"\"\"A study on pathological effects of Acholeplasma laidlawii isolated from buffaloes in Mice Model. \n",
    "-- Respiratory distress has become a hot issue that is causing severe infection in livestock industry of Pakistan. \n",
    "The exact and timely diagnosis is incredible to treat the disease. However, Acholeplasma (A.) laidlawii is found \n",
    "very significant from buffalo lungs but being a ubiquitous organism, its pathogenic description is not completely \n",
    "understood. The study was designed to validate the involvement of A. laidlawii in respiratory diseases in buffaloes.\n",
    "For this purpose, experimental trials on mice were conducted to confirm the involvement of the organism in \n",
    "respiratory tract infection. It was re-isolated from experimentally infected mice, showing lesions in respiratory \n",
    "tract (83.3%), proving Koch's postulates. Statistically, the experimental group-A (subcutaneous route) showed \n",
    "significant difference (P < 0.05) except in case of mortality feature. The group-B (intraperitoneal route) \n",
    "indicated non-significant difference (P>0.05) in all cases. Based on current study, it may be concluded that the \n",
    "organism is opportunistic, and can produce either disease or lesions on targeted organs in stressed animals, \n",
    "particularly buffaloes.\"\"\""
   ]
  },
  {
   "cell_type": "code",
   "execution_count": 36,
   "metadata": {},
   "outputs": [
    {
     "data": {
      "text/html": [
       "<div>\n",
       "<style scoped>\n",
       "    .dataframe tbody tr th:only-of-type {\n",
       "        vertical-align: middle;\n",
       "    }\n",
       "\n",
       "    .dataframe tbody tr th {\n",
       "        vertical-align: top;\n",
       "    }\n",
       "\n",
       "    .dataframe thead th {\n",
       "        text-align: right;\n",
       "    }\n",
       "</style>\n",
       "<table border=\"1\" class=\"dataframe\">\n",
       "  <thead>\n",
       "    <tr style=\"text-align: right;\">\n",
       "      <th></th>\n",
       "      <th>offsets</th>\n",
       "      <th>text</th>\n",
       "    </tr>\n",
       "  </thead>\n",
       "  <tbody>\n",
       "    <tr>\n",
       "      <th>T0</th>\n",
       "      <td>LIVB 35 57</td>\n",
       "      <td>Acholeplasma laidlawii</td>\n",
       "    </tr>\n",
       "    <tr>\n",
       "      <th>T1</th>\n",
       "      <td>LIVB 290 317</td>\n",
       "      <td>Acholeplasma (A.) laidlawii</td>\n",
       "    </tr>\n",
       "    <tr>\n",
       "      <th>T2</th>\n",
       "      <td>LIVB 509 521</td>\n",
       "      <td>A. laidlawii</td>\n",
       "    </tr>\n",
       "  </tbody>\n",
       "</table>\n",
       "</div>"
      ],
      "text/plain": [
       "         offsets                         text\n",
       "T0    LIVB 35 57       Acholeplasma laidlawii\n",
       "T1  LIVB 290 317  Acholeplasma (A.) laidlawii\n",
       "T2  LIVB 509 521                 A. laidlawii"
      ]
     },
     "execution_count": 36,
     "metadata": {},
     "output_type": "execute_result"
    }
   ],
   "source": [
    "taxonerd.find_in_text(text)"
   ]
  },
  {
   "cell_type": "markdown",
   "metadata": {},
   "source": [
    "TaxoNERD successfully detects the three mentions of *Acholeplasma laidlawii*. However it fails to detect common names of taxonomic entities such as \"buffaloes\" and \"mice\". To address this weakness of TaxoNERD, we propose to extend TaxoNERD's pipeline with an instance of spaCy's EntityRuler component for recognizing names provided as part of a name gazetteer."
   ]
  },
  {
   "cell_type": "markdown",
   "metadata": {},
   "source": [
    "## Creating the name gazetteer"
   ]
  },
  {
   "cell_type": "markdown",
   "metadata": {},
   "source": [
    "In this example, we will use a very simple gazetteer for demonstration purposes."
   ]
  },
  {
   "cell_type": "code",
   "execution_count": 47,
   "metadata": {},
   "outputs": [],
   "source": [
    "gazetteer = [\"buffalo\", \"mouse\", \"cat\", \"dog\"]"
   ]
  },
  {
   "cell_type": "markdown",
   "metadata": {},
   "source": [
    "Of course, it would be better to create a comprehensive list of vernacular names by querying taxonomic resources such as the NCBI Taxonomy, the GBIF backbone taxonomy or Wikidata. But for now, let's stick to our 4-name gazetteer."
   ]
  },
  {
   "cell_type": "markdown",
   "metadata": {},
   "source": [
    "## Patterns initialization"
   ]
  },
  {
   "cell_type": "markdown",
   "metadata": {},
   "source": [
    "The EntityRuler is a component that lets you add named entities based on pattern dictionaries. The entity ruler accepts two types of patterns: phrase patterns for exact string matches, and token patterns with one dictionary describing one token.\n",
    "\n",
    "While exact string matching is very useful and quite effective for detecting \"static\" entities such as organization names (or scientific names of organisms), it is less efficient to detect common nouns which very often have a different form in singular and plural, such as vernacular species names.\n",
    "\n",
    "For instance, using exact string matching with our 4-name gazetteer would not help us detect the mentions of \"buffaloes\" and \"mice\" in our piece of text. Exact string matching would need a comprehensive list of names with both singular and plural forms for each name.\n",
    "\n",
    "So, it seems that token patterns are the way to go ! More specifically, we will define a set of patterns that use the base form (or [lemma](https://en.wikipedia.org/wiki/Lemmatisation)) of each name in our gazetteer."
   ]
  },
  {
   "cell_type": "markdown",
   "metadata": {},
   "source": [
    "Let's start by defining a utility component that simply converts token lemmas to lowercase:"
   ]
  },
  {
   "cell_type": "code",
   "execution_count": 48,
   "metadata": {},
   "outputs": [
    {
     "data": {
      "text/plain": [
       "['transformer',\n",
       " 'tagger',\n",
       " 'attribute_ruler',\n",
       " 'lemmatizer',\n",
       " 'lower_case_lemmas',\n",
       " 'ner',\n",
       " 'taxo_abbrev_detector',\n",
       " 'entity_ruler']"
      ]
     },
     "execution_count": 48,
     "metadata": {},
     "output_type": "execute_result"
    }
   ],
   "source": [
    "@Language.component(\"lower_case_lemmas\")\n",
    "def lower_case_lemmas(doc) :\n",
    "    for token in doc :\n",
    "        token.lemma_ = token.lemma_.lower()\n",
    "    return doc\n",
    "\n",
    "nlp.add_pipe(\"lower_case_lemmas\", after=\"lemmatizer\")\n",
    "nlp.pipe_names"
   ]
  },
  {
   "cell_type": "markdown",
   "metadata": {},
   "source": [
    "Then, we create a list of token patterns by processing each name in the gazetteer using TaxoNERD's pipeline to obtain the (lowercased) lemmas of the name tokens."
   ]
  },
  {
   "cell_type": "code",
   "execution_count": 49,
   "metadata": {},
   "outputs": [
    {
     "data": {
      "text/plain": [
       "[{'label': 'LIVB', 'pattern': [{'LEMMA': 'buffalo'}]},\n",
       " {'label': 'LIVB', 'pattern': [{'LEMMA': 'mouse'}]},\n",
       " {'label': 'LIVB', 'pattern': [{'LEMMA': 'cat'}]},\n",
       " {'label': 'LIVB', 'pattern': [{'LEMMA': 'dog'}]}]"
      ]
     },
     "execution_count": 49,
     "metadata": {},
     "output_type": "execute_result"
    }
   ],
   "source": [
    "patterns = []\n",
    "label = \"LIVB\"\n",
    "for name in gazetteer:\n",
    "    doc = taxonerd.nlp(name)\n",
    "    patterns.append({\"label\": label, \"pattern\": [{\"LEMMA\": token.lemma_} for token in doc]})\n",
    "patterns"
   ]
  },
  {
   "cell_type": "markdown",
   "metadata": {},
   "source": [
    "## EntityRuler initialization and testing"
   ]
  },
  {
   "cell_type": "markdown",
   "metadata": {},
   "source": [
    "Adding an entity ruler to TaxoNERD's pipeline is as simple as:"
   ]
  },
  {
   "cell_type": "code",
   "execution_count": 51,
   "metadata": {},
   "outputs": [
    {
     "data": {
      "text/plain": [
       "['transformer',\n",
       " 'tagger',\n",
       " 'attribute_ruler',\n",
       " 'lemmatizer',\n",
       " 'lower_case_lemmas',\n",
       " 'ner',\n",
       " 'taxo_abbrev_detector',\n",
       " 'entity_ruler']"
      ]
     },
     "execution_count": 51,
     "metadata": {},
     "output_type": "execute_result"
    }
   ],
   "source": [
    "ruler = taxonerd.nlp.add_pipe(\"entity_ruler\")\n",
    "taxonerd.nlp.pipe_names"
   ]
  },
  {
   "cell_type": "markdown",
   "metadata": {},
   "source": [
    "The final step is to add the patterns to the entity ruler:"
   ]
  },
  {
   "cell_type": "code",
   "execution_count": 53,
   "metadata": {},
   "outputs": [],
   "source": [
    "ruler.add_patterns(patterns)"
   ]
  },
  {
   "cell_type": "markdown",
   "metadata": {},
   "source": [
    "Now that everything is ready, we can test our TaxoNERD pipeline that has been extended with gazetteer-based NER."
   ]
  },
  {
   "cell_type": "code",
   "execution_count": 54,
   "metadata": {},
   "outputs": [
    {
     "data": {
      "text/html": [
       "<div>\n",
       "<style scoped>\n",
       "    .dataframe tbody tr th:only-of-type {\n",
       "        vertical-align: middle;\n",
       "    }\n",
       "\n",
       "    .dataframe tbody tr th {\n",
       "        vertical-align: top;\n",
       "    }\n",
       "\n",
       "    .dataframe thead th {\n",
       "        text-align: right;\n",
       "    }\n",
       "</style>\n",
       "<table border=\"1\" class=\"dataframe\">\n",
       "  <thead>\n",
       "    <tr style=\"text-align: right;\">\n",
       "      <th></th>\n",
       "      <th>offsets</th>\n",
       "      <th>text</th>\n",
       "    </tr>\n",
       "  </thead>\n",
       "  <tbody>\n",
       "    <tr>\n",
       "      <th>T0</th>\n",
       "      <td>LIVB 35 57</td>\n",
       "      <td>Acholeplasma laidlawii</td>\n",
       "    </tr>\n",
       "    <tr>\n",
       "      <th>T1</th>\n",
       "      <td>LIVB 72 81</td>\n",
       "      <td>buffaloes</td>\n",
       "    </tr>\n",
       "    <tr>\n",
       "      <th>T2</th>\n",
       "      <td>LIVB 290 317</td>\n",
       "      <td>Acholeplasma (A.) laidlawii</td>\n",
       "    </tr>\n",
       "    <tr>\n",
       "      <th>T3</th>\n",
       "      <td>LIVB 350 357</td>\n",
       "      <td>buffalo</td>\n",
       "    </tr>\n",
       "    <tr>\n",
       "      <th>T4</th>\n",
       "      <td>LIVB 509 521</td>\n",
       "      <td>A. laidlawii</td>\n",
       "    </tr>\n",
       "    <tr>\n",
       "      <th>T5</th>\n",
       "      <td>LIVB 549 558</td>\n",
       "      <td>buffaloes</td>\n",
       "    </tr>\n",
       "    <tr>\n",
       "      <th>T6</th>\n",
       "      <td>LIVB 601 605</td>\n",
       "      <td>mice</td>\n",
       "    </tr>\n",
       "    <tr>\n",
       "      <th>T7</th>\n",
       "      <td>LIVB 745 749</td>\n",
       "      <td>mice</td>\n",
       "    </tr>\n",
       "    <tr>\n",
       "      <th>T8</th>\n",
       "      <td>LIVB 1239 1248</td>\n",
       "      <td>buffaloes</td>\n",
       "    </tr>\n",
       "  </tbody>\n",
       "</table>\n",
       "</div>"
      ],
      "text/plain": [
       "           offsets                         text\n",
       "T0      LIVB 35 57       Acholeplasma laidlawii\n",
       "T1      LIVB 72 81                    buffaloes\n",
       "T2    LIVB 290 317  Acholeplasma (A.) laidlawii\n",
       "T3    LIVB 350 357                      buffalo\n",
       "T4    LIVB 509 521                 A. laidlawii\n",
       "T5    LIVB 549 558                    buffaloes\n",
       "T6    LIVB 601 605                         mice\n",
       "T7    LIVB 745 749                         mice\n",
       "T8  LIVB 1239 1248                    buffaloes"
      ]
     },
     "execution_count": 54,
     "metadata": {},
     "output_type": "execute_result"
    }
   ],
   "source": [
    "taxonerd.find_in_text(text)"
   ]
  },
  {
   "cell_type": "markdown",
   "metadata": {},
   "source": [
    "In addition to the three mentions of *Acholeplasma laidlawii*, TaxoNERD now successfully detects the mentions of \"buffalo(es)\" and \"mice\" thanks to the entity ruler."
   ]
  },
  {
   "cell_type": "code",
   "execution_count": null,
   "metadata": {},
   "outputs": [],
   "source": []
  }
 ],
 "metadata": {
  "kernelspec": {
   "display_name": "taxonerd-3.4-env",
   "language": "python",
   "name": "taxonerd-3.4-env"
  },
  "language_info": {
   "codemirror_mode": {
    "name": "ipython",
    "version": 3
   },
   "file_extension": ".py",
   "mimetype": "text/x-python",
   "name": "python",
   "nbconvert_exporter": "python",
   "pygments_lexer": "ipython3",
   "version": "3.8.10"
  }
 },
 "nbformat": 4,
 "nbformat_minor": 2
}
