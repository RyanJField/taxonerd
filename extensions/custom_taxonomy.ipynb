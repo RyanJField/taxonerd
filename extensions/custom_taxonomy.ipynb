{
 "cells": [
  {
   "cell_type": "markdown",
   "metadata": {},
   "source": [
    "# Entity linking against custom taxonomies"
   ]
  },
  {
   "cell_type": "markdown",
   "metadata": {},
   "source": [
    "This notebook is a step-by-step example of linking taxon mentions to a custom taxonomy using TaxoNERD.\n",
    "\n",
    "Entity linking in TaxoNERD is based on fuzzy string matching using TF-IDF and the approximate nearest neighbours algorithm. This is exactly the same approach as implemented in scispacy."
   ]
  },
  {
   "cell_type": "markdown",
   "metadata": {},
   "source": [
    "### 1. Download the taxonomy"
   ]
  },
  {
   "cell_type": "markdown",
   "metadata": {},
   "source": [
    "The first step is to download the taxonomic reference. For this example, we will create a custom linker for the World Checklist of Vascular Plants (WCVP) database."
   ]
  },
  {
   "cell_type": "code",
   "execution_count": 1,
   "metadata": {},
   "outputs": [],
   "source": [
    "from io import BytesIO\n",
    "from urllib.request import urlopen\n",
    "from zipfile import ZipFile\n",
    "\n",
    "url = \"http://sftp.kew.org/pub/data-repositories/WCVP/wcvp.zip\"\n",
    "extract_to = \"./tmp/wcvp\"\n",
    "\n",
    "with urlopen(url) as zipresp:\n",
    "    with ZipFile(BytesIO(zipresp.read())) as zfile:\n",
    "        zfile.extractall(extract_to)"
   ]
  },
  {
   "cell_type": "markdown",
   "metadata": {},
   "source": [
    "### 2. Export the taxonomy to a JSON Lines file"
   ]
  },
  {
   "cell_type": "markdown",
   "metadata": {},
   "source": [
    "TaxoNERD expects the taxonomy to be provided as a JSON Lines (.jsonl) file.\n",
    "JSON Lines are essentially multiple lines, where each line is a valid JSON object, separated by a newline character \"\\n\". Each line must have the following format:\n",
    "\n",
    "{\"concept_id\" : concept_id, \"canonical_name\" : canonical_name, \"aliases\" : [name_1, name_2..., name_N], \"definition\" : \"\"}\n",
    "\n",
    "with:\n",
    "- concept_id: the identifier of the taxon in the reference taxonomy\n",
    "- canonical_name: the accepted taxon name (used for display only)\n",
    "- aliases: a list of names and synonyms for the taxon\n",
    "- definition: not used by TaxoNERD, leave empty"
   ]
  },
  {
   "cell_type": "code",
   "execution_count": 2,
   "metadata": {},
   "outputs": [
    {
     "data": {
      "text/html": [
       "<div>\n",
       "<style scoped>\n",
       "    .dataframe tbody tr th:only-of-type {\n",
       "        vertical-align: middle;\n",
       "    }\n",
       "\n",
       "    .dataframe tbody tr th {\n",
       "        vertical-align: top;\n",
       "    }\n",
       "\n",
       "    .dataframe thead th {\n",
       "        text-align: right;\n",
       "    }\n",
       "</style>\n",
       "<table border=\"1\" class=\"dataframe\">\n",
       "  <thead>\n",
       "    <tr style=\"text-align: right;\">\n",
       "      <th></th>\n",
       "      <th>plant_name_id</th>\n",
       "      <th>ipni_id</th>\n",
       "      <th>taxon_status</th>\n",
       "      <th>first_published</th>\n",
       "      <th>taxon_name</th>\n",
       "      <th>taxon_authors</th>\n",
       "      <th>accepted_plant_name_id</th>\n",
       "    </tr>\n",
       "  </thead>\n",
       "  <tbody>\n",
       "    <tr>\n",
       "      <th>0</th>\n",
       "      <td>195508</td>\n",
       "      <td>243233-2</td>\n",
       "      <td>Synonym</td>\n",
       "      <td>(1931)</td>\n",
       "      <td>Stachys pustulosa</td>\n",
       "      <td>Rydb.</td>\n",
       "      <td>195467.0</td>\n",
       "    </tr>\n",
       "    <tr>\n",
       "      <th>1</th>\n",
       "      <td>197585</td>\n",
       "      <td>767122-1</td>\n",
       "      <td>Synonym</td>\n",
       "      <td>(1830)</td>\n",
       "      <td>Stenostomum dichotomum</td>\n",
       "      <td>DC.</td>\n",
       "      <td>197582.0</td>\n",
       "    </tr>\n",
       "    <tr>\n",
       "      <th>2</th>\n",
       "      <td>76791</td>\n",
       "      <td>595920-1</td>\n",
       "      <td>Synonym</td>\n",
       "      <td>(1878)</td>\n",
       "      <td>Eugenia scoparia</td>\n",
       "      <td>Duthie</td>\n",
       "      <td>199254.0</td>\n",
       "    </tr>\n",
       "    <tr>\n",
       "      <th>3</th>\n",
       "      <td>74373</td>\n",
       "      <td>593644-1</td>\n",
       "      <td>Synonym</td>\n",
       "      <td>(1878)</td>\n",
       "      <td>Eugenia areolata</td>\n",
       "      <td>(DC.) Duthie</td>\n",
       "      <td>200472.0</td>\n",
       "    </tr>\n",
       "    <tr>\n",
       "      <th>4</th>\n",
       "      <td>205204</td>\n",
       "      <td>884387-1</td>\n",
       "      <td>Synonym</td>\n",
       "      <td>(1971)</td>\n",
       "      <td>Thymus pallasianus subsp. brachyodon</td>\n",
       "      <td>(Borbás) Jalas</td>\n",
       "      <td>204938.0</td>\n",
       "    </tr>\n",
       "  </tbody>\n",
       "</table>\n",
       "</div>"
      ],
      "text/plain": [
       "   plant_name_id   ipni_id taxon_status first_published  \\\n",
       "0         195508  243233-2      Synonym          (1931)   \n",
       "1         197585  767122-1      Synonym          (1830)   \n",
       "2          76791  595920-1      Synonym          (1878)   \n",
       "3          74373  593644-1      Synonym          (1878)   \n",
       "4         205204  884387-1      Synonym          (1971)   \n",
       "\n",
       "                             taxon_name   taxon_authors  \\\n",
       "0                     Stachys pustulosa           Rydb.   \n",
       "1                Stenostomum dichotomum             DC.   \n",
       "2                      Eugenia scoparia          Duthie   \n",
       "3                      Eugenia areolata    (DC.) Duthie   \n",
       "4  Thymus pallasianus subsp. brachyodon  (Borbás) Jalas   \n",
       "\n",
       "   accepted_plant_name_id  \n",
       "0                195467.0  \n",
       "1                197582.0  \n",
       "2                199254.0  \n",
       "3                200472.0  \n",
       "4                204938.0  "
      ]
     },
     "execution_count": 2,
     "metadata": {},
     "output_type": "execute_result"
    }
   ],
   "source": [
    "import pandas as pd\n",
    "\n",
    "# Read the taxonomy\n",
    "taxo_df = pd.read_csv(\"./tmp/wcvp/wcvp_names.csv\", sep=\"|\", usecols=[\"plant_name_id\", \"ipni_id\", \"taxon_status\", \"taxon_name\", \"accepted_plant_name_id\", \"taxon_authors\", \"first_published\"])\n",
    "# Keep only the names that can be associated to an accepted name\n",
    "taxo_df = taxo_df.dropna(subset=[\"accepted_plant_name_id\"])\n",
    "taxo_df.head()"
   ]
  },
  {
   "cell_type": "code",
   "execution_count": 3,
   "metadata": {},
   "outputs": [],
   "source": [
    "from tqdm.notebook import tqdm\n",
    "import numpy as np\n",
    "import json\n",
    "\n",
    "def dump_entries(output_file, entries):\n",
    "    with open(output_file, \"a\", encoding=\"utf8\") as f:\n",
    "        f.write(\n",
    "            '\\n'.join(json.dumps(i, ensure_ascii=False) for i in entries)\n",
    "        )\n",
    "\n",
    "def wcvp_to_jsonl(taxo_df, output_file):\n",
    "    with open(output_file, 'w'): pass\n",
    "    count = 0\n",
    "    total_names = 0\n",
    "    entries = []\n",
    "    for taxid in tqdm(taxo_df.accepted_plant_name_id.unique()):\n",
    "        if count % 10000 == 0 and count != 0:\n",
    "            print(count, \"dump\", len(entries))\n",
    "            dump_entries(output_file, entries)\n",
    "            entries = []\n",
    "            break # We stop at the first dump to keep this tutorial quick, remove this line to export the whole taxonomy\n",
    "        taxa = taxo_df.query(\"accepted_plant_name_id==@taxid\")\n",
    "        accepted = taxa[taxa[\"taxon_status\"]==\"Accepted\"]\n",
    "        if not accepted.empty:\n",
    "            concept_id = accepted.ipni_id.iloc[0] # We use the ipni_id as the concept_id\n",
    "            canonical_name = accepted.taxon_name.iloc[0]\n",
    "            aliases = set()\n",
    "            for idx, row in taxa.iterrows():\n",
    "                aliases.add(row[\"taxon_name\"])\n",
    "                if not pd.isnull(row[\"taxon_authors\"]): # We assemble a name with authorship if authorship information is available\n",
    "                    aliases.add(row[\"taxon_name\"]+\" \"+row[\"taxon_authors\"])\n",
    "            entries.append({\"concept_id\" : concept_id, \"aliases\" : list(aliases), \"canonical_name\" : canonical_name, \"definition\" : \"\"})\n",
    "            count += 1\n",
    "            total_names += len(aliases)\n",
    "    dump_entries(output_file, entries)\n",
    "    print(f\"Written {total_names} names for {count} taxa to {output_file}\")"
   ]
  },
  {
   "cell_type": "code",
   "execution_count": 4,
   "metadata": {},
   "outputs": [
    {
     "data": {
      "application/vnd.jupyter.widget-view+json": {
       "model_id": "5a2664057f494ac4bed5feb0c26315e8",
       "version_major": 2,
       "version_minor": 0
      },
      "text/plain": [
       "  0%|          | 0/433705 [00:00<?, ?it/s]"
      ]
     },
     "metadata": {},
     "output_type": "display_data"
    },
    {
     "name": "stdout",
     "output_type": "stream",
     "text": [
      "10000 dump 10000\n",
      "Written 115160 names for 10000 taxa to ./tmp/wcvp/wcvp.jsonl\n"
     ]
    }
   ],
   "source": [
    "output_file = f\"./tmp/wcvp/wcvp.jsonl\"\n",
    "wcvp_to_jsonl(taxo_df, output_file)"
   ]
  },
  {
   "cell_type": "markdown",
   "metadata": {},
   "source": [
    "### 3. Fit a TF-IDF vectorizer and build the Approximate Nearest Neighbour index "
   ]
  },
  {
   "cell_type": "markdown",
   "metadata": {},
   "source": [
    "We now have to estimate TF-IDF vectors for all the names in our knowledge base (the .jsonl file) and build an ANN index using the HNSW algorithm. This can take a while and use a lot of memory, especially for large taxonomies. All generated files will be saved into the out_path directory."
   ]
  },
  {
   "cell_type": "code",
   "execution_count": 5,
   "metadata": {},
   "outputs": [],
   "source": [
    "from taxonerd.linking.linking_utils import KnowledgeBase\n",
    "from taxonerd.linking.candidate_generation import create_tfidf_ann_index"
   ]
  },
  {
   "cell_type": "code",
   "execution_count": 6,
   "metadata": {},
   "outputs": [
    {
     "name": "stdout",
     "output_type": "stream",
     "text": [
      "No tfidf vectorizer on ./tmp/wcvp/processed/tfidf_vectorizer.joblib or ann index on ./tmp/wcvp/processed/nmslib_index.bin\n",
      "Fitting tfidf vectorizer on 114760 aliases\n",
      "Saving tfidf vectorizer to ./tmp/wcvp/processed/tfidf_vectorizer.joblib\n",
      "Fitting and saving vectorizer took 1.511032 seconds\n",
      "Finding empty (all zeros) tfidf vectors\n",
      "Deleting 0/114760 aliases because their tfidf is empty\n",
      "Saving list of concept ids and tfidfs vectors to ./tmp/wcvp/processed/concept_aliases.json and ./tmp/wcvp/processed/tfidf_vectors_sparse.npz\n",
      "Fitting ann index on 114760 aliases (takes 2 hours)\n"
     ]
    },
    {
     "name": "stderr",
     "output_type": "stream",
     "text": [
      "\n",
      "0%   10   20   30   40   50   60   70   80   90   100%\n",
      "|----|----|----|----|----|----|----|----|----|----|\n",
      "***************************************************\n"
     ]
    },
    {
     "name": "stdout",
     "output_type": "stream",
     "text": [
      "Fitting ann index took 205.331933 seconds\n"
     ]
    }
   ],
   "source": [
    "wcvp_kb = KnowledgeBase(file_path=\"./tmp/wcvp/wcvp.jsonl\", prefix=\"WCVP:\")\n",
    "_, _, _ = create_tfidf_ann_index(kb=wcvp_kb, out_path=\"./tmp/wcvp/processed\")"
   ]
  },
  {
   "cell_type": "markdown",
   "metadata": {},
   "source": [
    "### 4. Tell TaxoNERD to use the custom linker"
   ]
  },
  {
   "cell_type": "markdown",
   "metadata": {},
   "source": [
    "All files needed by TaxoNERD to link taxonomic mentions to entities in the custom taxonomy have been created. All you have to do is tell TaxoNERD where to find these files by creating a LinkerPaths instance. As of TaxoNERD 1.5.2, the linker argument of the TaxoNERD.load() method accepts paths to linker configuration files."
   ]
  },
  {
   "cell_type": "code",
   "execution_count": 7,
   "metadata": {},
   "outputs": [],
   "source": [
    "import json\n",
    "\n",
    "linker_cfg = {\n",
    "    \"name\":\"wcvp\",\n",
    "    \"kb\": {\n",
    "        \"file_path\":\"./tmp/wcvp/wcvp.jsonl\",\n",
    "        \"prefix\":\"WCVP:\",\n",
    "    },\n",
    "    \"linker_paths\": {\n",
    "        \"ann_index\":\"./tmp/wcvp/processed/nmslib_index.bin\",\n",
    "        \"tfidf_vectorizer\":\"./tmp/wcvp/processed/tfidf_vectorizer.joblib\",\n",
    "        \"tfidf_vectors\":\"./tmp/wcvp/processed/tfidf_vectors_sparse.npz\",\n",
    "        \"concept_aliases_list\":\"./tmp/wcvp/processed/concept_aliases.json\",\n",
    "    }\n",
    "}\n",
    "\n",
    "with open(\"./tmp/wcvp/wcvp.cfg\", \"w\") as f:\n",
    "    json.dump(linker_cfg, f)"
   ]
  },
  {
   "cell_type": "code",
   "execution_count": 8,
   "metadata": {},
   "outputs": [
    {
     "data": {
      "text/plain": [
       "<spacy.lang.en.English at 0x7fd303c1b3a0>"
      ]
     },
     "execution_count": 8,
     "metadata": {},
     "output_type": "execute_result"
    }
   ],
   "source": [
    "from taxonerd import TaxoNERD\n",
    "from pathlib import Path\n",
    "\n",
    "taxonerd = TaxoNERD(prefer_gpu=False)\n",
    "taxonerd.load(model=\"en_core_eco_md\", exclude=[], linker=\"./tmp/wcvp/wcvp.cfg\", threshold=0.7)"
   ]
  },
  {
   "cell_type": "code",
   "execution_count": 9,
   "metadata": {},
   "outputs": [
    {
     "data": {
      "text/html": [
       "<div>\n",
       "<style scoped>\n",
       "    .dataframe tbody tr th:only-of-type {\n",
       "        vertical-align: middle;\n",
       "    }\n",
       "\n",
       "    .dataframe tbody tr th {\n",
       "        vertical-align: top;\n",
       "    }\n",
       "\n",
       "    .dataframe thead th {\n",
       "        text-align: right;\n",
       "    }\n",
       "</style>\n",
       "<table border=\"1\" class=\"dataframe\">\n",
       "  <thead>\n",
       "    <tr style=\"text-align: right;\">\n",
       "      <th></th>\n",
       "      <th>offsets</th>\n",
       "      <th>text</th>\n",
       "      <th>entity</th>\n",
       "      <th>sent</th>\n",
       "    </tr>\n",
       "  </thead>\n",
       "  <tbody>\n",
       "    <tr>\n",
       "      <th>T0</th>\n",
       "      <td>LIVB 21 39</td>\n",
       "      <td>Pandanus tectorius</td>\n",
       "      <td>[(WCVP:'895770-1', Pandanus tectorius, 1.0)]</td>\n",
       "      <td>0</td>\n",
       "    </tr>\n",
       "  </tbody>\n",
       "</table>\n",
       "</div>"
      ],
      "text/plain": [
       "       offsets                text  \\\n",
       "T0  LIVB 21 39  Pandanus tectorius   \n",
       "\n",
       "                                          entity  sent  \n",
       "T0  [(WCVP:'895770-1', Pandanus tectorius, 1.0)]     0  "
      ]
     },
     "execution_count": 9,
     "metadata": {},
     "output_type": "execute_result"
    }
   ],
   "source": [
    "taxonerd.find_in_text(\"Wild distribution of Pandanus tectorius occurs in the exposed coastal headlands beaches and near-coastal forests of south Asia\")"
   ]
  },
  {
   "cell_type": "markdown",
   "metadata": {},
   "source": [
    "It also works when using TaxoNERD's CLI:"
   ]
  },
  {
   "cell_type": "code",
   "execution_count": 10,
   "metadata": {},
   "outputs": [
    {
     "name": "stdout",
     "output_type": "stream",
     "text": [
      "T0\tLIVB 21 39\tPandanus tectorius\t\"[(\"\"WCVP:'895770-1'\"\", 'Pandanus tectorius', 1.0)]\"\n"
     ]
    }
   ],
   "source": [
    "!taxonerd ask -l ./tmp/wcvp/wcvp.cfg \"Wild distribution of Pandanus tectorius occurs in the exposed coastal headlands beaches and near-coastal forests of south Asia\""
   ]
  },
  {
   "cell_type": "markdown",
   "metadata": {},
   "source": [
    "Et voilà !"
   ]
  }
 ],
 "metadata": {
  "kernelspec": {
   "display_name": "taxonerd-env",
   "language": "python",
   "name": "taxonerd-env"
  },
  "language_info": {
   "codemirror_mode": {
    "name": "ipython",
    "version": 3
   },
   "file_extension": ".py",
   "mimetype": "text/x-python",
   "name": "python",
   "nbconvert_exporter": "python",
   "pygments_lexer": "ipython3",
   "version": "3.10.12"
  }
 },
 "nbformat": 4,
 "nbformat_minor": 4
}
